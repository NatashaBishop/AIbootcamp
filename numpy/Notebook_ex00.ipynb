{
 "cells": [
  {
   "cell_type": "markdown",
   "id": "3b69413e",
   "metadata": {},
   "source": [
    "# H1\n",
    "## H2"
   ]
  },
  {
   "cell_type": "code",
   "execution_count": null,
   "id": "02eaaf89-db5e-4204-aa25-643508733674",
   "metadata": {},
   "outputs": [],
   "source": [
    "print(\"Buy the dip ?\")"
   ]
  },
  {
   "cell_type": "code",
   "execution_count": null,
   "id": "00939a7c",
   "metadata": {},
   "outputs": [],
   "source": [
    "#Exercise 2: Creating a NumPy array with mixed data types\n",
    "import numpy as np\n",
    "\n",
    "your_np_array = np.array([\n",
    "    17,                     # Integer\n",
    "    7.17,                   # Float\n",
    "    \"Hello, World!\",                # String\n",
    "    {\"key\": \"value\"},       # Dictionary\n",
    "    [1, 2, 3],              # List\n",
    "    (4, 5, 6),              # Tuple\n",
    "    {7, 8, 9},              # Set\n",
    "    True                    # Boolean\n",
    "], dtype=object)  # Specify object dtype\n",
    "\n",
    "for i in your_np_array:\n",
    "    print(type(i))\n"
   ]
  },
  {
   "cell_type": "code",
   "execution_count": null,
   "id": "1eddb19b",
   "metadata": {},
   "outputs": [],
   "source": [
    "#Exercise 2.1: Zeros\n",
    "#Create a NumPy array of dimension 300 with zeros without filling it manually\n",
    "import numpy as np\n",
    "zero_array = np.zeros(300)\n",
    "#Exercise 2.2: Reshape it to (3,100)\n",
    "reshaped_array = zero_array.reshape(3, 100)\n",
    "print(reshaped_array)"
   ]
  },
  {
   "cell_type": "code",
   "execution_count": null,
   "id": "fdcaeb2d",
   "metadata": {},
   "outputs": [],
   "source": [
    "#3.1Create a NumPy array of dimension 1 that contains all integers from 1 to 100 ordered.\n",
    "array1to100 = np.arange(1, 101)\n",
    "print(array1to100)\n",
    "# 3.2Create a new array containing all odd integers from 1 to 99\n",
    "new_odd_array = np.arange(1, 100, 2) #with a step of 2\n",
    "print(new_odd_array)\n",
    "# 3.3 Create a new array containing all odd integers from 1 to 99\n",
    "reverse_odd_array = np.arange(99, 0, -2) #with a step of -2\n",
    "print(reverse_odd_array)\n",
    "# 3.4 Using array of Q1, set the value of every 3 elements of the list (starting with the second) to 0. The expected output is:\n",
    "array1to100[1::3] = 0\n",
    "print(array1to100)"
   ]
  },
  {
   "cell_type": "code",
   "execution_count": null,
   "id": "2c394b2d",
   "metadata": {},
   "outputs": [],
   "source": [
    "#4 Random Generator\n",
    "#4.1 Set the seed to 8884.1 \n",
    "np.random.seed(888)\n",
    "#4.2 Generate a one-dimensional array of size 100 with a normal distribution\n",
    "random_array = np.random.randn(100)\n",
    "#print(random_array)\n",
    "#4.3 Generate a two-dimensional array of size 8,8 with random integers from 1 to 10 - \n",
    "# both included (same probability for each integer)\n",
    "#print(np.random.randint(1,11,(8,8)))\n",
    "#4.4 Generate a three-dimensional of size 4,2,5 array with random integers from 1 to 17 - \n",
    "# both included (same probability for each integer\n",
    "print(np.random.randint(1,18,(4,2,5)))\n"
   ]
  },
  {
   "cell_type": "code",
   "execution_count": null,
   "id": "50af3ada",
   "metadata": {},
   "outputs": [],
   "source": [
    "#5 Exercise 5: Split, concatenate, reshape arrays\n",
    "#5.1 Generate an array with integers from 1 to 50: array([1,...,50])\n",
    "arr_1_50 = np.arange(1, 51)\n",
    "print(arr_1_50)\n",
    "#5.2 Generate an array with integers from 51 to 100: array([51,...,100])\n",
    "arr_51_100 = np.arange(51, 101)\n",
    "print(arr_51_100)\n",
    "#5.3 Using np.concatenate, concatenate the two arrays into: array([1,...,100])\n",
    "arrays_concateneted = np.concatenate((arr_1_50, arr_51_100))\n",
    "#5.4 Reshape the previous array into a 10x10 matrix\n",
    "array10x10 = arrays_concateneted.reshape(10, 10)\n",
    "print(array10x10)"
   ]
  }
 ],
 "metadata": {
  "kernelspec": {
   "display_name": "ex00",
   "language": "python",
   "name": "python3"
  },
  "language_info": {
   "codemirror_mode": {
    "name": "ipython",
    "version": 3
   },
   "file_extension": ".py",
   "mimetype": "text/x-python",
   "name": "python",
   "nbconvert_exporter": "python",
   "pygments_lexer": "ipython3",
   "version": "3.11.4"
  }
 },
 "nbformat": 4,
 "nbformat_minor": 5
}
