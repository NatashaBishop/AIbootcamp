{
 "cells": [
  {
   "cell_type": "markdown",
   "id": "3b69413e",
   "metadata": {},
   "source": [
    "# H1\n",
    "## H2"
   ]
  },
  {
   "cell_type": "code",
   "execution_count": null,
   "id": "02eaaf89-db5e-4204-aa25-643508733674",
   "metadata": {},
   "outputs": [],
   "source": [
    "print(\"Buy the dip ?\")"
   ]
  },
  {
   "cell_type": "code",
   "execution_count": null,
   "id": "00939a7c",
   "metadata": {},
   "outputs": [],
   "source": [
    "#Exercise 2: Creating a NumPy array with mixed data types\n",
    "import numpy as np\n",
    "\n",
    "your_np_array = np.array([\n",
    "    17,                     # Integer\n",
    "    7.17,                   # Float\n",
    "    \"Hello, World!\",                # String\n",
    "    {\"key\": \"value\"},       # Dictionary\n",
    "    [1, 2, 3],              # List\n",
    "    (4, 5, 6),              # Tuple\n",
    "    {7, 8, 9},              # Set\n",
    "    True                    # Boolean\n",
    "], dtype=object)  # Specify object dtype\n",
    "\n",
    "for i in your_np_array:\n",
    "    print(type(i))\n"
   ]
  },
  {
   "cell_type": "code",
   "execution_count": null,
   "id": "1eddb19b",
   "metadata": {},
   "outputs": [],
   "source": [
    "#Exercise 2.1: Zeros\n",
    "#Create a NumPy array of dimension 300 with zeros without filling it manually\n",
    "import numpy as np\n",
    "zero_array = np.zeros(300)\n",
    "#Exercise 2.2: Reshape it to (3,100)\n",
    "reshaped_array = zero_array.reshape(3, 100)\n",
    "print(reshaped_array)"
   ]
  },
  {
   "cell_type": "code",
   "execution_count": null,
   "id": "fdcaeb2d",
   "metadata": {},
   "outputs": [],
   "source": [
    "#3.1Create a NumPy array of dimension 1 that contains all integers from 1 to 100 ordered.\n",
    "array1to100 = np.arange(1, 101)\n",
    "print(array1to100)\n",
    "# 3.2Create a new array containing all odd integers from 1 to 99\n",
    "new_odd_array = np.arange(1, 100, 2) #with a step of 2\n",
    "print(new_odd_array)\n",
    "# 3.3 Create a new array containing all odd integers from 1 to 99\n",
    "reverse_odd_array = np.arange(99, 0, -2)"
   ]
  }
 ],
 "metadata": {
  "kernelspec": {
   "display_name": "ex00",
   "language": "python",
   "name": "python3"
  },
  "language_info": {
   "codemirror_mode": {
    "name": "ipython",
    "version": 3
   },
   "file_extension": ".py",
   "mimetype": "text/x-python",
   "name": "python",
   "nbconvert_exporter": "python",
   "pygments_lexer": "ipython3",
   "version": "3.11.4"
  }
 },
 "nbformat": 4,
 "nbformat_minor": 5
}
